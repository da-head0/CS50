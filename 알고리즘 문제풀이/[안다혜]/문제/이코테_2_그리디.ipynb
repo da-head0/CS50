{
  "nbformat": 4,
  "nbformat_minor": 0,
  "metadata": {
    "colab": {
      "name": "이코테 2-그리디.ipynb",
      "provenance": [],
      "authorship_tag": "ABX9TyPhhX3doScJHnrMoQTdw1cf",
      "include_colab_link": true
    },
    "kernelspec": {
      "name": "python3",
      "display_name": "Python 3"
    },
    "language_info": {
      "name": "python"
    }
  },
  "cells": [
    {
      "cell_type": "markdown",
      "metadata": {
        "id": "view-in-github",
        "colab_type": "text"
      },
      "source": [
        "<a href=\"https://colab.research.google.com/github/da-head0/CS50/blob/main/%EC%95%8C%EA%B3%A0%EB%A6%AC%EC%A6%98%20%EB%AC%B8%EC%A0%9C%ED%92%80%EC%9D%B4/%5B%EC%95%88%EB%8B%A4%ED%98%9C%5D/%EB%AC%B8%EC%A0%9C/%EC%9D%B4%EC%BD%94%ED%85%8C_2_%EA%B7%B8%EB%A6%AC%EB%94%94.ipynb\" target=\"_parent\"><img src=\"https://colab.research.google.com/assets/colab-badge.svg\" alt=\"Open In Colab\"/></a>"
      ]
    },
    {
      "cell_type": "code",
      "metadata": {
        "colab": {
          "base_uri": "https://localhost:8080/"
        },
        "id": "6YjCmPfutF5n",
        "outputId": "900ae192-b3a5-4538-ccc2-34cd18caa41d"
      },
      "source": [
        "def changes(num):\n",
        "  fivehun = num//500\n",
        "  huns = (num-(500*fivehun))//100\n",
        "  fiftys = (num-(500*fivehun + 100*huns))//50\n",
        "  tens =  (num-(500*fivehun + 100*huns + 50*fiftys))//10\n",
        "  return fivehun+huns+fiftys+tens\n",
        "\n",
        "changes(1260)\n"
      ],
      "execution_count": 2,
      "outputs": [
        {
          "output_type": "execute_result",
          "data": {
            "text/plain": [
              "6"
            ]
          },
          "metadata": {
            "tags": []
          },
          "execution_count": 2
        }
      ]
    },
    {
      "cell_type": "code",
      "metadata": {
        "colab": {
          "base_uri": "https://localhost:8080/"
        },
        "id": "e87PxphywZaS",
        "outputId": "939d680b-9f3f-465a-f778-7246975cb45b"
      },
      "source": [
        "changes(800)"
      ],
      "execution_count": 3,
      "outputs": [
        {
          "output_type": "execute_result",
          "data": {
            "text/plain": [
              "4"
            ]
          },
          "metadata": {
            "tags": []
          },
          "execution_count": 3
        }
      ]
    },
    {
      "cell_type": "code",
      "metadata": {
        "id": "raD9i6lAwv1-"
      },
      "source": [
        "# 동빈나 답\n",
        "\n",
        "n = 1260\n",
        "count = 0\n",
        "\n",
        "# 큰 단위의 화폐부터 차례대로 확인"
      ],
      "execution_count": null,
      "outputs": []
    }
  ]
}