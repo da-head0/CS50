{
  "nbformat": 4,
  "nbformat_minor": 0,
  "metadata": {
    "colab": {
      "name": "이코테 2-그리디.ipynb",
      "provenance": [],
      "authorship_tag": "ABX9TyN5NRDLMyMjwUb8EtQyKjr0",
      "include_colab_link": true
    },
    "kernelspec": {
      "name": "python3",
      "display_name": "Python 3"
    },
    "language_info": {
      "name": "python"
    }
  },
  "cells": [
    {
      "cell_type": "markdown",
      "metadata": {
        "id": "view-in-github",
        "colab_type": "text"
      },
      "source": [
        "<a href=\"https://colab.research.google.com/github/da-head0/CS50/blob/main/%EC%95%8C%EA%B3%A0%EB%A6%AC%EC%A6%98%20%EB%AC%B8%EC%A0%9C%ED%92%80%EC%9D%B4/%5B%EC%95%88%EB%8B%A4%ED%98%9C%5D/%EB%AC%B8%EC%A0%9C/%EC%9D%B4%EC%BD%94%ED%85%8C_2_%EA%B7%B8%EB%A6%AC%EB%94%94.ipynb\" target=\"_parent\"><img src=\"https://colab.research.google.com/assets/colab-badge.svg\" alt=\"Open In Colab\"/></a>"
      ]
    },
    {
      "cell_type": "code",
      "metadata": {
        "colab": {
          "base_uri": "https://localhost:8080/"
        },
        "id": "6YjCmPfutF5n",
        "outputId": "900ae192-b3a5-4538-ccc2-34cd18caa41d"
      },
      "source": [
        "def changes(num):\n",
        "  fivehun = num//500\n",
        "  huns = (num-(500*fivehun))//100\n",
        "  fiftys = (num-(500*fivehun + 100*huns))//50\n",
        "  tens =  (num-(500*fivehun + 100*huns + 50*fiftys))//10\n",
        "  return fivehun+huns+fiftys+tens\n",
        "\n",
        "changes(1260)\n"
      ],
      "execution_count": 2,
      "outputs": [
        {
          "output_type": "execute_result",
          "data": {
            "text/plain": [
              "6"
            ]
          },
          "metadata": {
            "tags": []
          },
          "execution_count": 2
        }
      ]
    },
    {
      "cell_type": "code",
      "metadata": {
        "colab": {
          "base_uri": "https://localhost:8080/"
        },
        "id": "e87PxphywZaS",
        "outputId": "939d680b-9f3f-465a-f778-7246975cb45b"
      },
      "source": [
        "changes(800)"
      ],
      "execution_count": 3,
      "outputs": [
        {
          "output_type": "execute_result",
          "data": {
            "text/plain": [
              "4"
            ]
          },
          "metadata": {
            "tags": []
          },
          "execution_count": 3
        }
      ]
    },
    {
      "cell_type": "code",
      "metadata": {
        "id": "raD9i6lAwv1-"
      },
      "source": [
        "# 동빈나 답\n",
        "\n",
        "n = 1260\n",
        "count = 0\n",
        "\n",
        "# 큰 단위의 화폐부터 차례대로 확인\n",
        "array = [500, 100, 50, 10]\n",
        "\n",
        "for coin in array:\n",
        "  count += n // coin # 해당 화폐로 거슬러 줄 수 있는 동전의 개수 세기\n",
        "  n %= coin #나머지만 남은 돈으로 남김\n",
        "  # 반복문으로 돌면서 동전 수, 나머지를 계산\n",
        "\n",
        "print(count)"
      ],
      "execution_count": null,
      "outputs": []
    },
    {
      "cell_type": "markdown",
      "metadata": {
        "id": "RIM4Y4mFxqiU"
      },
      "source": [
        "- 문제의 핵심에 맞추어 깔끔하게 동전 수만 구하고자 하는 문제풀이... 이렇게 간결하게 리스트로 넣어서 할 수 있구나 배웠다."
      ]
    },
    {
      "cell_type": "markdown",
      "metadata": {
        "id": "_zinGT6byrh3"
      },
      "source": [
        "---\n",
        "\n",
        "## 1이 될 때까지"
      ]
    },
    {
      "cell_type": "code",
      "metadata": {
        "colab": {
          "base_uri": "https://localhost:8080/",
          "height": 139
        },
        "id": "nKzADkp2y_ex",
        "outputId": "5f11f462-c346-4b77-fee4-3d178796cc24"
      },
      "source": [
        "m = 0\n",
        "count = 0\n",
        "\n",
        "def toward1(n, k):\n",
        "\n",
        "  if n%k == 0:\n",
        "    n = n/k\n",
        "    global count\n",
        "    count += 1\n",
        "\n",
        "    if n != 1:\n",
        "      continue\n",
        "\n",
        "  else :\n",
        "    n = n - 1\n",
        "    count += 1\n",
        "    if n != 1:\n",
        "      continue\n",
        "\n",
        "  if n == 1:\n",
        "    return count\n",
        "  \n",
        "toward1(17, 4)\n"
      ],
      "execution_count": 15,
      "outputs": [
        {
          "output_type": "error",
          "ename": "SyntaxError",
          "evalue": "ignored",
          "traceback": [
            "\u001b[0;36m  File \u001b[0;32m\"<ipython-input-15-15b7fc6e3907>\"\u001b[0;36m, line \u001b[0;32m12\u001b[0m\n\u001b[0;31m    continue\u001b[0m\n\u001b[0m    ^\u001b[0m\n\u001b[0;31mSyntaxError\u001b[0m\u001b[0;31m:\u001b[0m 'continue' not properly in loop\n"
          ]
        }
      ]
    },
    {
      "cell_type": "code",
      "metadata": {
        "id": "88TC-nk41zcb"
      },
      "source": [
        "# 동빈나 풀이\n",
        "\n",
        "# n, k를 공백을 기준으로 구분하여 입력받기\n",
        "n, k = map(int, input().split())\n",
        "\n",
        "result = 0\n",
        "\n",
        "while True:\n",
        "  # n이 k로 나누어 떨어지는 수가 될 때까지 빼기\n",
        "  \n",
        "  # n이 k로 나누어 떨어지는 경우의 수 만들기\n",
        "  target = (n // k) * k\n",
        "  result + = (n - target) # 주어진 수와 target의 차이를 더함 - 1로 빼주어야 하는 횟수\n",
        "  n = target # 이제 뺐으니까 n이 target임\n",
        "\n",
        "  # n이 k보다 작을 때 (더이상 나눌 수 없을 때) 반복문 탈출\n",
        "  if n < k:\n",
        "    break\n",
        "\n",
        "  # K로 나누기\n",
        "  result +=1\n",
        "  n //= k \n",
        "\n",
        "  # 마지막으로 남은 수에 대하여 1씩 빼기\n",
        "  result += (n - 1) # 어차피 1은 남을 테니까 애초에 n-1을 뺀 수를 더하면 된다...\n",
        "  print(result)\n",
        "  "
      ],
      "execution_count": null,
      "outputs": []
    },
    {
      "cell_type": "markdown",
      "metadata": {
        "id": "y0ulph0y3ACS"
      },
      "source": [
        "- 이런 생각 어떻게 하지.. 코드를 짜는 것보다 생각을 더 많이 해야 하는 듯 싶다."
      ]
    }
  ]
}