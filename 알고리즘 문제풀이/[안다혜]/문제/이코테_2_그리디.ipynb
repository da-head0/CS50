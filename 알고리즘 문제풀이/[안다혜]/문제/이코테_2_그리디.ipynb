{
  "nbformat": 4,
  "nbformat_minor": 0,
  "metadata": {
    "colab": {
      "name": "이코테 2-그리디.ipynb",
      "provenance": [],
      "collapsed_sections": [],
      "authorship_tag": "ABX9TyMNB6DVsKeItA5ryaddW2Lz",
      "include_colab_link": true
    },
    "kernelspec": {
      "name": "python3",
      "display_name": "Python 3"
    },
    "language_info": {
      "name": "python"
    }
  },
  "cells": [
    {
      "cell_type": "markdown",
      "metadata": {
        "id": "view-in-github",
        "colab_type": "text"
      },
      "source": [
        "<a href=\"https://colab.research.google.com/github/da-head0/CS50/blob/BoHye/%EC%95%8C%EA%B3%A0%EB%A6%AC%EC%A6%98%20%EB%AC%B8%EC%A0%9C%ED%92%80%EC%9D%B4/%5B%EC%95%88%EB%8B%A4%ED%98%9C%5D/%EB%AC%B8%EC%A0%9C/%EC%9D%B4%EC%BD%94%ED%85%8C_2_%EA%B7%B8%EB%A6%AC%EB%94%94.ipynb\" target=\"_parent\"><img src=\"https://colab.research.google.com/assets/colab-badge.svg\" alt=\"Open In Colab\"/></a>"
      ]
    },
    {
      "cell_type": "code",
      "metadata": {
        "colab": {
          "base_uri": "https://localhost:8080/"
        },
        "id": "6YjCmPfutF5n",
        "outputId": "900ae192-b3a5-4538-ccc2-34cd18caa41d"
      },
      "source": [
        "def changes(num):\n",
        "  fivehun = num//500\n",
        "  huns = (num-(500*fivehun))//100\n",
        "  fiftys = (num-(500*fivehun + 100*huns))//50\n",
        "  tens =  (num-(500*fivehun + 100*huns + 50*fiftys))//10\n",
        "  return fivehun+huns+fiftys+tens\n",
        "\n",
        "changes(1260)\n"
      ],
      "execution_count": null,
      "outputs": [
        {
          "output_type": "execute_result",
          "data": {
            "text/plain": [
              "6"
            ]
          },
          "metadata": {
            "tags": []
          },
          "execution_count": 2
        }
      ]
    },
    {
      "cell_type": "code",
      "metadata": {
        "colab": {
          "base_uri": "https://localhost:8080/"
        },
        "id": "e87PxphywZaS",
        "outputId": "939d680b-9f3f-465a-f778-7246975cb45b"
      },
      "source": [
        "changes(800)"
      ],
      "execution_count": null,
      "outputs": [
        {
          "output_type": "execute_result",
          "data": {
            "text/plain": [
              "4"
            ]
          },
          "metadata": {
            "tags": []
          },
          "execution_count": 3
        }
      ]
    },
    {
      "cell_type": "code",
      "metadata": {
        "id": "raD9i6lAwv1-"
      },
      "source": [
        "# 동빈나 답\n",
        "\n",
        "n = 1260\n",
        "count = 0\n",
        "\n",
        "# 큰 단위의 화폐부터 차례대로 확인\n",
        "array = [500, 100, 50, 10]\n",
        "\n",
        "for coin in array:\n",
        "  count += n // coin # 해당 화폐로 거슬러 줄 수 있는 동전의 개수 세기\n",
        "  n %= coin #나머지만 남은 돈으로 남김\n",
        "  # 반복문으로 돌면서 동전 수, 나머지를 계산\n",
        "\n",
        "print(count)"
      ],
      "execution_count": null,
      "outputs": []
    },
    {
      "cell_type": "markdown",
      "metadata": {
        "id": "RIM4Y4mFxqiU"
      },
      "source": [
        "- 문제의 핵심에 맞추어 깔끔하게 동전 수만 구하고자 하는 문제풀이... 이렇게 간결하게 리스트로 넣어서 할 수 있구나 배웠다."
      ]
    },
    {
      "cell_type": "markdown",
      "metadata": {
        "id": "_zinGT6byrh3"
      },
      "source": [
        "---\n",
        "\n",
        "## 1이 될 때까지"
      ]
    },
    {
      "cell_type": "code",
      "metadata": {
        "colab": {
          "base_uri": "https://localhost:8080/",
          "height": 139
        },
        "id": "nKzADkp2y_ex",
        "outputId": "5f11f462-c346-4b77-fee4-3d178796cc24"
      },
      "source": [
        "m = 0\n",
        "count = 0\n",
        "\n",
        "def toward1(n, k):\n",
        "\n",
        "  if n%k == 0:\n",
        "    n = n/k\n",
        "    global count\n",
        "    count += 1\n",
        "\n",
        "    if n != 1:\n",
        "      continue\n",
        "\n",
        "  else :\n",
        "    n = n - 1\n",
        "    count += 1\n",
        "    if n != 1:\n",
        "      continue\n",
        "\n",
        "  if n == 1:\n",
        "    return count\n",
        "  \n",
        "toward1(17, 4)\n"
      ],
      "execution_count": null,
      "outputs": [
        {
          "output_type": "error",
          "ename": "SyntaxError",
          "evalue": "ignored",
          "traceback": [
            "\u001b[0;36m  File \u001b[0;32m\"<ipython-input-15-15b7fc6e3907>\"\u001b[0;36m, line \u001b[0;32m12\u001b[0m\n\u001b[0;31m    continue\u001b[0m\n\u001b[0m    ^\u001b[0m\n\u001b[0;31mSyntaxError\u001b[0m\u001b[0;31m:\u001b[0m 'continue' not properly in loop\n"
          ]
        }
      ]
    },
    {
      "cell_type": "code",
      "metadata": {
        "id": "88TC-nk41zcb"
      },
      "source": [
        "# 동빈나 풀이\n",
        "\n",
        "# n, k를 공백을 기준으로 구분하여 입력받기\n",
        "n, k = map(int, input().split())\n",
        "\n",
        "result = 0\n",
        "\n",
        "while True:\n",
        "  # n이 k로 나누어 떨어지는 수가 될 때까지 빼기\n",
        "  \n",
        "  # n이 k로 나누어 떨어지는 경우의 수 만들기\n",
        "  target = (n // k) * k\n",
        "  result + = (n - target) # 주어진 수와 target의 차이를 더함 - 1로 빼주어야 하는 횟수\n",
        "  n = target # 이제 뺐으니까 n이 target임\n",
        "\n",
        "  # n이 k보다 작을 때 (더이상 나눌 수 없을 때) 반복문 탈출\n",
        "  if n < k:\n",
        "    break\n",
        "\n",
        "  # K로 나누기\n",
        "  result +=1\n",
        "  n //= k \n",
        "\n",
        "  # 마지막으로 남은 수에 대하여 1씩 빼기\n",
        "  result += (n - 1) # 어차피 1은 남을 테니까 애초에 n-1을 뺀 수를 더하면 된다...\n",
        "  print(result)\n",
        "  "
      ],
      "execution_count": null,
      "outputs": []
    },
    {
      "cell_type": "markdown",
      "metadata": {
        "id": "y0ulph0y3ACS"
      },
      "source": [
        "- 이런 생각 어떻게 하지.. 코드를 짜는 것보다 생각을 더 많이 해야 하는 듯 싶다."
      ]
    },
    {
      "cell_type": "code",
      "metadata": {
        "colab": {
          "base_uri": "https://localhost:8080/"
        },
        "id": "CyiniztizMf4",
        "outputId": "cf0b12ae-f9a1-46b9-e34b-6e6a4f639391"
      },
      "source": [
        "# 곱하기 혹은 더하기\n",
        "\n",
        "maxnum = 0\n",
        "\n",
        "numlist = [int(i) for i in '02984']\n",
        "for i in range(len(numlist)):\n",
        "  if i == 0:\n",
        "    if numlist[i] !=0 or 1:\n",
        "      maxnum += numlist[i] * numlist[i+1]\n",
        "    else:\n",
        "      maxnum += numlist[i] + numlist[i+1]\n",
        "  else:\n",
        "    if i == len(numlist)-1:\n",
        "      break\n",
        "    if numlist[i] <2:\n",
        "      maxnum *= numlist[i+1]\n",
        "    else:\n",
        "      maxnum += numlist[i+1]\n",
        "\n",
        "\n",
        "maxnum"
      ],
      "execution_count": null,
      "outputs": [
        {
          "output_type": "execute_result",
          "data": {
            "text/plain": [
              "21"
            ]
          },
          "metadata": {
            "tags": []
          },
          "execution_count": 41
        }
      ]
    },
    {
      "cell_type": "markdown",
      "metadata": {
        "id": "JSqoRk7qM73Z"
      },
      "source": [
        "- 오답 1:\n",
        "    if numlist[i] !=0 or 1: 로 접근\n",
        "\n",
        "    < 2: 로 고치니 답이 숫자가 나오긴 하지만 여전히 오답이다."
      ]
    },
    {
      "cell_type": "code",
      "metadata": {
        "colab": {
          "base_uri": "https://localhost:8080/"
        },
        "id": "MFGo7K5T1hNw",
        "outputId": "54f4e70c-0420-4b57-e744-d8d1394fc3f3"
      },
      "source": [
        "list1 = [int(i) for i in '02984']\n",
        "list1[0]"
      ],
      "execution_count": null,
      "outputs": [
        {
          "output_type": "execute_result",
          "data": {
            "text/plain": [
              "0"
            ]
          },
          "metadata": {
            "tags": []
          },
          "execution_count": 30
        }
      ]
    },
    {
      "cell_type": "code",
      "metadata": {
        "colab": {
          "base_uri": "https://localhost:8080/"
        },
        "id": "T61Tlb6z3Vbz",
        "outputId": "88736f80-e2b5-45aa-be85-d719ac60bd50"
      },
      "source": [
        "list1[1]"
      ],
      "execution_count": null,
      "outputs": [
        {
          "output_type": "execute_result",
          "data": {
            "text/plain": [
              "2"
            ]
          },
          "metadata": {
            "tags": []
          },
          "execution_count": 31
        }
      ]
    },
    {
      "cell_type": "code",
      "metadata": {
        "colab": {
          "base_uri": "https://localhost:8080/"
        },
        "id": "c94g6xAVz7Be",
        "outputId": "de325fa1-e43b-4f79-a236-48f1785ef7e1"
      },
      "source": [
        "[int(i) for i in str(10034)]"
      ],
      "execution_count": null,
      "outputs": [
        {
          "output_type": "execute_result",
          "data": {
            "text/plain": [
              "[1, 0, 0, 3, 4]"
            ]
          },
          "metadata": {
            "tags": []
          },
          "execution_count": 13
        }
      ]
    },
    {
      "cell_type": "code",
      "metadata": {
        "colab": {
          "base_uri": "https://localhost:8080/"
        },
        "id": "lFU52mlG06PF",
        "outputId": "91ac7753-3613-4b43-cc1c-8023c97f710e"
      },
      "source": [
        "for i in range(len(str(10034))):\n",
        "  print(i)"
      ],
      "execution_count": null,
      "outputs": [
        {
          "output_type": "stream",
          "text": [
            "0\n",
            "1\n",
            "2\n",
            "3\n",
            "4\n"
          ],
          "name": "stdout"
        }
      ]
    },
    {
      "cell_type": "code",
      "metadata": {
        "colab": {
          "base_uri": "https://localhost:8080/"
        },
        "id": "kor-Ed-rNTRH",
        "outputId": "ad4444ee-c644-4654-8ecc-3af3451a1c90"
      },
      "source": [
        "# 동빈나 답안\n",
        "\n",
        "data = input()\n",
        "\n",
        "# 첫 번째 문자를 숫자로 변경하여 대입\n",
        "result = int(data[0]) # 원래 문자로 받으니까 [0]으로 해도 되나?\n",
        "\n",
        "# 첫 번째 숫자는 받았으니 그 다음 숫자부터\n",
        "for i in range(1, len(data)):\n",
        "  # 두 수 중 하나라도 0 혹은 1인 경우, 더하기 수행\n",
        "  num = int(data[i])\n",
        "  if num <=1 or result <= 1:\n",
        "    result += num\n",
        "  else:\n",
        "    result *= num\n",
        "\n",
        "print(result)"
      ],
      "execution_count": null,
      "outputs": [
        {
          "output_type": "stream",
          "text": [
            "02984\n",
            "576\n"
          ],
          "name": "stdout"
        }
      ]
    },
    {
      "cell_type": "markdown",
      "metadata": {
        "id": "mGMz5uquO7RR"
      },
      "source": [
        "- 처음 숫자는 result로 받고, 계산의 결과를 result에 더해 다음 숫자(num = int(data[i]))와 비교하며 연산 수행.\n",
        "\n",
        "배울 점 : 변수화. 어떤 수를 변수화할 것인가? 어떤 수를 재활용할 수 있을 것인가?\n",
        "\n",
        "그리고 어떻게 코드를 간단히 할 수 있을 것인가?"
      ]
    },
    {
      "cell_type": "code",
      "metadata": {
        "id": "4pZkDeOlQJLW"
      },
      "source": [
        "# 23:37 모험가 길드 풀 차례"
      ],
      "execution_count": null,
      "outputs": []
    },
    {
      "cell_type": "code",
      "metadata": {
        "colab": {
          "base_uri": "https://localhost:8080/"
        },
        "id": "heJ_1HMtL1im",
        "outputId": "4aa7f473-c824-4c29-cf22-96ccedb645a6"
      },
      "source": [
        "n = 10\n",
        "people = [1,5,2,3,2,2,3,1,2,2] #list(map(int,input().split(\" \")))\n",
        "groupnum=0\n",
        "\n",
        "while people:\n",
        "  people.sort() # 정렬해줌\n",
        "  print(people)\n",
        "  fearest = max(people) # or people[-1]\n",
        "  lefts= len(people)-fearest # 2\n",
        "  if lefts <2:\n",
        "    groupnum+=1\n",
        "    break\n",
        "  for i in range(fearest):\n",
        "    people.pop()\n",
        "  groupnum+=1\n",
        "\n",
        "print(groupnum)"
      ],
      "execution_count": 14,
      "outputs": [
        {
          "output_type": "stream",
          "text": [
            "[1, 1, 2, 2, 2, 2, 2, 3, 3, 5]\n",
            "[1, 1, 2, 2, 2]\n",
            "[1, 1, 2]\n",
            "3\n"
          ],
          "name": "stdout"
        }
      ]
    },
    {
      "cell_type": "markdown",
      "metadata": {
        "id": "EGyKsFnpUj0a"
      },
      "source": [
        "- 하지만 공포도 1인 사람은 혼자 여행을 떠날 수 있기 때문에 이 사람들부터 없애야 했다."
      ]
    },
    {
      "cell_type": "code",
      "metadata": {
        "colab": {
          "base_uri": "https://localhost:8080/"
        },
        "id": "9gwjk0MPUnt1",
        "outputId": "7a9b2c48-f892-41be-f17b-f68d17bbddfd"
      },
      "source": [
        "n = 10\n",
        "people = [1,5,2,3,2,2,3,1,2,2] #list(map(int,input().split(\" \")))\n",
        "groupnum=0\n",
        "count = 0 # 현재 그룹에 포함된 모험가의 수\n",
        "\n",
        "people.sort() # 정렬해줌\n",
        "\n",
        "for i in people: # 공포도를 낮은 것부터 하나씩 확인하며\n",
        "  count +=1 # 현재 그룹에 해당 모험가를 포함시키기\n",
        "  if count >= i: # 현재 그룹에 포함된 모험가의 수가 현재의 공포도 이상이라면, 그룹 결성\n",
        "    groupnum += 1 # 총 그룹의 수 증가\n",
        "    count = 0 # 현재 그룹에 포함된 모험가의 수 초기화\n",
        "\n",
        "print(groupnum) # 총 그룹의 수 출력"
      ],
      "execution_count": 16,
      "outputs": [
        {
          "output_type": "stream",
          "text": [
            "5\n"
          ],
          "name": "stdout"
        }
      ]
    },
    {
      "cell_type": "code",
      "metadata": {
        "colab": {
          "base_uri": "https://localhost:8080/"
        },
        "id": "T1VSqDdpMEUu",
        "outputId": "6970d90b-525a-4524-b20f-73bac217cca4"
      },
      "source": [
        "list(map(int,input().split(\" \")))"
      ],
      "execution_count": 6,
      "outputs": [
        {
          "output_type": "stream",
          "text": [
            "2 3 1 2 2\n"
          ],
          "name": "stdout"
        },
        {
          "output_type": "execute_result",
          "data": {
            "text/plain": [
              "[2, 3, 1, 2, 2]"
            ]
          },
          "metadata": {
            "tags": []
          },
          "execution_count": 6
        }
      ]
    },
    {
      "cell_type": "markdown",
      "metadata": {
        "id": "lcMpu5VKVb6p"
      },
      "source": [
        "### 구현 : 시뮬레이션과 완전 탐색"
      ]
    },
    {
      "cell_type": "code",
      "metadata": {
        "colab": {
          "base_uri": "https://localhost:8080/"
        },
        "id": "rv01ujjyVd0j",
        "outputId": "f5cfea24-b901-4b4c-d343-e8d3f43db1ef"
      },
      "source": [
        "current = [1,1]\n",
        "size = 5\n",
        "input = ['R','R','R','U','D','D']\n",
        "for i in input:\n",
        "  if i =='L' and current[1] !=1: #맨 왼쪽에 있지 않으면\n",
        "    current[1] -=1 # 왼쪽으로 이동, [1]이 움직인다는 것에 주의\n",
        "  if i =='R' and current[1] !=(size): # 맨 오른쪽에 있지 않으면\n",
        "    current[1] +=1 # 오른쪽으로 이동\n",
        "  if i =='U' and current[0] !=1: # 맨 위에 있지 않으면\n",
        "    current[0] -=1 # 위로 이동, [0]이 -1 이동이라는 것에 주의\n",
        "  if i =='D' and current[0] !=(size):  \n",
        "    current[0] +=1\n",
        "    \n",
        "print(current)\n",
        "\n"
      ],
      "execution_count": 22,
      "outputs": [
        {
          "output_type": "stream",
          "text": [
            "[3, 4]\n"
          ],
          "name": "stdout"
        }
      ]
    },
    {
      "cell_type": "code",
      "metadata": {
        "colab": {
          "base_uri": "https://localhost:8080/",
          "height": 138
        },
        "id": "44ssmK1wdz-g",
        "outputId": "a9ce8e16-748e-41dd-910b-a0e6960fc678"
      },
      "source": [
        "import itertools\n",
        "\n",
        "def find3(hour, minute, second):\n",
        "  if hour in [03,13,23]:\n",
        "    print(hour,minute,second)\n",
        "  elif minute in [03,13,23,33,43,53]:\n",
        "    print(hour,minute,second)\n",
        "  else second in [03,13,23,33,43,53]:\n",
        "    print(hour,minute,second)\n",
        "\n",
        "ex = itertools.permutations(range(0,59),3)\n",
        "# list(ex)\n",
        "# for i in list(ex):\n",
        "#   find3(i)"
      ],
      "execution_count": 31,
      "outputs": [
        {
          "output_type": "error",
          "ename": "SyntaxError",
          "evalue": "ignored",
          "traceback": [
            "\u001b[0;36m  File \u001b[0;32m\"<ipython-input-31-a724a38a2224>\"\u001b[0;36m, line \u001b[0;32m4\u001b[0m\n\u001b[0;31m    if hour in [03,13,23]:\u001b[0m\n\u001b[0m                 ^\u001b[0m\n\u001b[0;31mSyntaxError\u001b[0m\u001b[0;31m:\u001b[0m invalid token\n"
          ]
        }
      ]
    },
    {
      "cell_type": "markdown",
      "metadata": {
        "id": "UtHJzhlJf8Cn"
      },
      "source": [
        "- 문제 제대로 읽기..\n",
        "- 정수 N이 입력되면 00시 00분 00초부터 N시 59분 59초 중에 3이 포함되는 경우의 수를 구하는 것\n"
      ]
    },
    {
      "cell_type": "code",
      "metadata": {
        "colab": {
          "base_uri": "https://localhost:8080/"
        },
        "id": "NOrPWhQtiNFu",
        "outputId": "2215b86e-3749-4f3a-d6f3-07532b7a5a00"
      },
      "source": [
        "def get3time(hour):\n",
        "  count = 0\n",
        "  for i in range(hour+1):\n",
        "    for j in range(0,60):\n",
        "      for k in range(0,60):\n",
        "        # 매 시각 안에 '3'이 포함되어 있다면 카운트 증가\n",
        "        if '3' in str(i) + str(j) + str(k):\n",
        "          count +=1\n",
        "  return count\n",
        "\n",
        "get3time(5)"
      ],
      "execution_count": 41,
      "outputs": [
        {
          "output_type": "execute_result",
          "data": {
            "text/plain": [
              "11475"
            ]
          },
          "metadata": {
            "tags": []
          },
          "execution_count": 41
        }
      ]
    },
    {
      "cell_type": "markdown",
      "metadata": {
        "id": "r1YzVnrvlbo6"
      },
      "source": [
        "# 4657 왕실의 나이트 풀 차례\n",
        "https://youtu.be/2zjoKjt97vQ?list=PLRx0vPvlEmdAghTr5mXQxGpHjWqSz0dgC&t=2817"
      ]
    },
    {
      "cell_type": "markdown",
      "metadata": {
        "id": "SZoAP6VPlhXj"
      },
      "source": [
        ""
      ]
    }
  ]
}